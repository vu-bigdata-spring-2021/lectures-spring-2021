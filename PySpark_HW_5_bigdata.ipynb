{
  "nbformat": 4,
  "nbformat_minor": 0,
  "metadata": {
    "colab": {
      "name": "PySpark-HW-5_bigdata.ipynb",
      "provenance": [],
      "collapsed_sections": [],
      "authorship_tag": "ABX9TyOvhvD/dTkwSZ3Dcv18bkez",
      "include_colab_link": true
    },
    "kernelspec": {
      "name": "python3",
      "display_name": "Python 3"
    }
  },
  "cells": [
    {
      "cell_type": "markdown",
      "metadata": {
        "id": "view-in-github",
        "colab_type": "text"
      },
      "source": [
        "<a href=\"https://colab.research.google.com/github/vu-bigdata-spring-2021/lectures-spring-2021/blob/main/PySpark_HW_5_bigdata.ipynb\" target=\"_parent\"><img src=\"https://colab.research.google.com/assets/colab-badge.svg\" alt=\"Open In Colab\"/></a>"
      ]
    },
    {
      "cell_type": "code",
      "metadata": {
        "colab": {
          "base_uri": "https://localhost:8080/"
        },
        "id": "xOGyfAgQv0MX",
        "outputId": "c39b4d30-30af-43e7-d1a3-81145cb00aa9"
      },
      "source": [
        "############Run this in the AWS EMR jupyter notebook#######\r\n",
        "\r\n",
        "!pip install pyspark"
      ],
      "execution_count": null,
      "outputs": [
        {
          "output_type": "stream",
          "text": [
            "Requirement already satisfied: pyspark in /usr/local/lib/python3.6/dist-packages (3.0.1)\n",
            "Requirement already satisfied: py4j==0.10.9 in /usr/local/lib/python3.6/dist-packages (from pyspark) (0.10.9)\n"
          ],
          "name": "stdout"
        }
      ]
    },
    {
      "cell_type": "code",
      "metadata": {
        "id": "dUts5LykvF6m"
      },
      "source": [
        "from pyspark.sql import functions as F"
      ],
      "execution_count": null,
      "outputs": []
    },
    {
      "cell_type": "code",
      "metadata": {
        "id": "6-kvhS9hvH6v"
      },
      "source": [
        "from pyspark.sql import SparkSession"
      ],
      "execution_count": null,
      "outputs": []
    },
    {
      "cell_type": "code",
      "metadata": {
        "id": "JKYiQg3lvNMC"
      },
      "source": [
        "spark = SparkSession \\\r\n",
        "        .builder \\\r\n",
        "        .config(\"spark.jars.packages\",\r\n",
        "                \"org.apache.hadoop:hadoop-aws:2.7.0\") \\\r\n",
        "        .getOrCreate()"
      ],
      "execution_count": null,
      "outputs": []
    },
    {
      "cell_type": "code",
      "metadata": {
        "id": "UedVNMV9vS3C"
      },
      "source": [
        "sc = spark.sparkContext"
      ],
      "execution_count": null,
      "outputs": []
    },
    {
      "cell_type": "code",
      "metadata": {
        "id": "XjFLaTE5va5a"
      },
      "source": [
        "######################## Load the tweet file ##########################################################\r\n",
        "\r\n",
        "#lines = sc.textFile( \"/content/nashville-tweets-2019-01-28\" ).flatMap(lambda line: line.split(\" \"))\r\n",
        "#words = spark.read.json( \"/content/nashville-tweets-2019-01-28\" )\r\n",
        "\r\n",
        "#use this for AWS EMR - replace the path of tweet file with your S3 path\r\n",
        "words = spark.read.json(\"s3://aws-emr-resources-722483176788-us-east-1/nashville-tweets-2019-01-28\").flatMap(lambda line: line.split(\" \"))"
      ],
      "execution_count": null,
      "outputs": []
    },
    {
      "cell_type": "code",
      "metadata": {
        "id": "1PFkw10XvbwO"
      },
      "source": [
        "###################Word count example **************************************\r\n",
        "wordCounts = lines.map(lambda line: (line, 1)).reduceByKey(lambda a,b:a +b)\r\n",
        "wordCounts.collect()\r\n"
      ],
      "execution_count": null,
      "outputs": []
    },
    {
      "cell_type": "code",
      "metadata": {
        "id": "lU-0ARzkvgDg"
      },
      "source": [
        "#wordcnt = wordCounts.saveAsTextFile(\"/content/fc10\")\r\n",
        "\r\n",
        "#USE this for AWS EMR - replace this with proper path S3 path for the results\r\n",
        "wordcnt = wordCounts.saveAsTextFile(\"s3://aws-emr-resources-722483176788-us-east-1/\")\r\n"
      ],
      "execution_count": null,
      "outputs": []
    }
  ]
}