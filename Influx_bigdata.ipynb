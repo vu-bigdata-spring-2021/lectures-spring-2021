{
  "nbformat": 4,
  "nbformat_minor": 0,
  "metadata": {
    "colab": {
      "name": "Influx-bigdata.ipynb",
      "provenance": [],
      "collapsed_sections": [],
      "authorship_tag": "ABX9TyPN8OFFNRS3IyfAA7M+PsW6",
      "include_colab_link": true
    },
    "kernelspec": {
      "name": "python3",
      "display_name": "Python 3"
    }
  },
  "cells": [
    {
      "cell_type": "markdown",
      "metadata": {
        "id": "view-in-github",
        "colab_type": "text"
      },
      "source": [
        "<a href=\"https://colab.research.google.com/github/vu-bigdata-spring-2021/lectures-spring-2021/blob/main/Influx_bigdata.ipynb\" target=\"_parent\"><img src=\"https://colab.research.google.com/assets/colab-badge.svg\" alt=\"Open In Colab\"/></a>"
      ]
    },
    {
      "cell_type": "code",
      "metadata": {
        "colab": {
          "base_uri": "https://localhost:8080/"
        },
        "id": "WqcXu_pFxJnO",
        "outputId": "d5f9e3be-abc1-4668-ca2c-035dba0fa18a"
      },
      "source": [
        "!pip install influxdb"
      ],
      "execution_count": 49,
      "outputs": [
        {
          "output_type": "stream",
          "text": [
            "Requirement already satisfied: influxdb in /usr/local/lib/python3.6/dist-packages (5.3.1)\n",
            "Requirement already satisfied: python-dateutil>=2.6.0 in /usr/local/lib/python3.6/dist-packages (from influxdb) (2.8.1)\n",
            "Requirement already satisfied: requests>=2.17.0 in /usr/local/lib/python3.6/dist-packages (from influxdb) (2.23.0)\n",
            "Requirement already satisfied: six>=1.10.0 in /usr/local/lib/python3.6/dist-packages (from influxdb) (1.15.0)\n",
            "Requirement already satisfied: pytz in /usr/local/lib/python3.6/dist-packages (from influxdb) (2018.9)\n",
            "Requirement already satisfied: msgpack in /usr/local/lib/python3.6/dist-packages (from influxdb) (1.0.1)\n",
            "Requirement already satisfied: certifi>=2017.4.17 in /usr/local/lib/python3.6/dist-packages (from requests>=2.17.0->influxdb) (2020.12.5)\n",
            "Requirement already satisfied: urllib3!=1.25.0,!=1.25.1,<1.26,>=1.21.1 in /usr/local/lib/python3.6/dist-packages (from requests>=2.17.0->influxdb) (1.24.3)\n",
            "Requirement already satisfied: chardet<4,>=3.0.2 in /usr/local/lib/python3.6/dist-packages (from requests>=2.17.0->influxdb) (3.0.4)\n",
            "Requirement already satisfied: idna<3,>=2.5 in /usr/local/lib/python3.6/dist-packages (from requests>=2.17.0->influxdb) (2.10)\n"
          ],
          "name": "stdout"
        }
      ]
    },
    {
      "cell_type": "code",
      "metadata": {
        "id": "nl5XcJZpxVb1"
      },
      "source": [
        "from influxdb import InfluxDBClient\r\n",
        "import json\r\n",
        "import datetime"
      ],
      "execution_count": 2,
      "outputs": []
    },
    {
      "cell_type": "code",
      "metadata": {
        "id": "Rx9Hztq0xcH3"
      },
      "source": [
        "\r\n",
        "f = open(\"/content/nashville-tweets-2019-01-28\",)\r\n",
        "lines = f.readlines()\r\n",
        "\r\n",
        "client = InfluxDBClient(host='3.91.64.64', port=8086, database=\"tweet\")\r\n",
        "\r\n",
        "for line in lines:\r\n",
        "  try:\r\n",
        "      # Parse with: tweet = json.loads(line)\r\n",
        "      tweet = json.loads(line)\r\n",
        "      json_body = [\r\n",
        "        {\r\n",
        "            \"measurement\": \"tweet\",\r\n",
        "            \"tags\": {\r\n",
        "                \"user_name\": tweet['user']['name'],\r\n",
        "                \"screen_name\":tweet['user']['screen_name'],\r\n",
        "                \"screen_name\": tweet['user']['screen_name'],\r\n",
        "                \"user_location\":tweet['user']['location'],\r\n",
        "                \"place_type\": tweet['place']['place_type'],\r\n",
        "                \"country\": tweet['place']['country']\r\n",
        "             \r\n",
        "            },\r\n",
        "            \"time\":  tweet['created_at'],\r\n",
        "            \"fields\":  {\r\n",
        "                \"text\": tweet['text'],\r\n",
        "                \"quote_count\": tweet['quote_count'],\r\n",
        "                \"contributors\": tweet['contributors'],\r\n",
        "                \"truncated\": tweet['truncated'], \r\n",
        "                \"reply_count\": tweet['reply_count'], \r\n",
        "                \"favorite_count\": tweet['favorite_count'],\r\n",
        "                \"source\": tweet['source'],\r\n",
        "                \"favorited\": tweet['favorited'],\r\n",
        "                \"followers_count\":tweet['user']['followers_count'],\r\n",
        "                \"user description\":tweet['user']['description'],\r\n",
        "                \"friends_count\":tweet['user']['friends_count']\r\n",
        "                \r\n",
        "            }\r\n",
        "            \r\n",
        "        }\r\n",
        "      ]\r\n",
        "\r\n",
        " \r\n",
        "      client.write_points(json_body)\r\n",
        "      \r\n",
        "  except:\r\n",
        "      # ignore tweets that error on load\r\n",
        "      print(\"exception\")\r\n",
        "      pass\r\n",
        "     \r\n",
        "\r\n",
        "  \r\n",
        "  \r\n",
        "\r\n",
        "  \r\n",
        "  \r\n",
        "\r\n",
        "\r\n"
      ],
      "execution_count": null,
      "outputs": []
    },
    {
      "cell_type": "code",
      "metadata": {
        "id": "B31mG5DmQhp5"
      },
      "source": [
        "# example query to count tweets\r\n",
        "q = client.query(\"select count(*) from tweet\")"
      ],
      "execution_count": null,
      "outputs": []
    }
  ]
}