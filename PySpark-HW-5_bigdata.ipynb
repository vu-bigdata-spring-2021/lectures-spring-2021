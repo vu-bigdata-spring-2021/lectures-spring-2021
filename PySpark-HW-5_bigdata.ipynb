{
  "nbformat": 4,
  "nbformat_minor": 0,
  "metadata": {
    "colab": {
      "name": "hw5-bd.ipynb",
      "provenance": [],
      "collapsed_sections": [],
      "authorship_tag": "ABX9TyPUMiY4inqEX6rVfbOfGO45",
      "include_colab_link": true
    },
    "kernelspec": {
      "name": "python3",
      "display_name": "Python 3"
    }
  },
  "cells": [
    {
      "cell_type": "markdown",
      "metadata": {
        "id": "view-in-github",
        "colab_type": "text"
      },
      "source": [
        "<a href=\"https://colab.research.google.com/github/vu-bigdata-spring-2021/lectures-spring-2021/blob/main/PySpark-HW-5_bigdata.ipynb\" target=\"_parent\"><img src=\"https://colab.research.google.com/assets/colab-badge.svg\" alt=\"Open In Colab\"/></a>"
      ]
    },
    {
      "cell_type": "code",
      "metadata": {
        "id": "xOGyfAgQv0MX"
      },
      "source": [
        "############Run this in the AWS EMR jupyter notebook#######\r\n"
      ],
      "execution_count": null,
      "outputs": []
    },
    {
      "cell_type": "code",
      "metadata": {
        "id": "dUts5LykvF6m"
      },
      "source": [
        "from pyspark.sql import functions as F"
      ],
      "execution_count": null,
      "outputs": []
    },
    {
      "cell_type": "code",
      "metadata": {
        "id": "6-kvhS9hvH6v"
      },
      "source": [
        "from pyspark.sql import SparkSession"
      ],
      "execution_count": null,
      "outputs": []
    },
    {
      "cell_type": "code",
      "metadata": {
        "id": "JKYiQg3lvNMC"
      },
      "source": [
        "spark = SparkSession \\\r\n",
        "        .builder \\\r\n",
        "        .config(\"spark.jars.packages\",\r\n",
        "                \"org.apache.hadoop:hadoop-aws:2.7.0\") \\\r\n",
        "        .getOrCreate()"
      ],
      "execution_count": null,
      "outputs": []
    },
    {
      "cell_type": "code",
      "metadata": {
        "id": "UedVNMV9vS3C"
      },
      "source": [
        "sc = spark.sparkContext"
      ],
      "execution_count": null,
      "outputs": []
    },
    {
      "cell_type": "code",
      "metadata": {
        "id": "XjFLaTE5va5a"
      },
      "source": [
        "######################## Load the tweet file ##########################################################\r\n",
        "\r\n",
        "lines = sc.textFile( \"/content/nashville-tweets-2019-01-28\" ).flatMap(lambda line: line.split(\" \"))\r\n",
        "#words = spark.read.json( \"/content/nashville-tweets-2019-01-28\" )\r\n",
        "\r\n",
        "use this for AWS EMR \r\n",
        "#words = spark.read.json(\"s3://aws-logs-722483176788-us-east-1/nashville-tweets-2019-01-28\").flatMap(lambda line: line.split(\" \"))"
      ],
      "execution_count": null,
      "outputs": []
    },
    {
      "cell_type": "code",
      "metadata": {
        "id": "1PFkw10XvbwO"
      },
      "source": [
        "###################Word count example **************************************\r\n",
        "wordCounts = lines.map(lambda line: (line, 1)).reduceByKey(lambda a,b:a +b)\r\n",
        "wordCounts.collect()\r\n"
      ],
      "execution_count": null,
      "outputs": []
    },
    {
      "cell_type": "code",
      "metadata": {
        "id": "lU-0ARzkvgDg"
      },
      "source": [
        "wordcnt = wordCounts.saveAsTextFile(\"/content/fc10\")\r\n",
        "\r\n",
        "#USE this for AWS EMR\r\n",
        "#wordcnt = wordCounts.saveAsTextFile(\"s3://aws-logs-722483176788-us-east-1/tc\")\r\n"
      ],
      "execution_count": null,
      "outputs": []
    }
  ]
}